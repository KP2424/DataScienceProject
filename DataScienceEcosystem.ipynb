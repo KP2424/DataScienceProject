{
 "cells": [
  {
   "cell_type": "markdown",
   "id": "d95113aa-0f09-4581-9906-87c32f5e32c9",
   "metadata": {},
   "source": [
    "# Data Science Tools and Ecosystem"
   ]
  },
  {
   "cell_type": "markdown",
   "id": "1be7fe1e-71f7-4672-8b41-b1a09737e0ef",
   "metadata": {},
   "source": [
    "## Author\n",
    "Kritish"
   ]
  },
  {
   "cell_type": "markdown",
   "id": "d83bf486-f3f7-4ea5-9a37-516bfca6c12e",
   "metadata": {},
   "source": [
    "In this notebook, Data Science Tools and Ecosystem are summarized."
   ]
  },
  {
   "cell_type": "markdown",
   "id": "d37630d0-72d9-4b3c-8cd3-54fed1943537",
   "metadata": {},
   "source": [
    "**Objectives:**\n",
    "- Listing Popular Data Science Languages\n",
    "- Listing Common Data Science Libraries\n",
    "- Listing Popular Data Science Tools\n",
    "- Arithmetic Expressions in Python"
   ]
  },
  {
   "cell_type": "markdown",
   "id": "e88588ab-156e-46aa-9654-595c3d7cfcb4",
   "metadata": {},
   "source": [
    "Some of the popular languages that Data Scientists use are:\n",
    "1. Python\n",
    "2. R\n",
    "3. SQL"
   ]
  },
  {
   "cell_type": "markdown",
   "id": "08276222-cb5f-4fef-af57-0ae7bf1a7fa7",
   "metadata": {},
   "source": [
    "Some of the commonly used libraries used by Data Scientists include:\n",
    "1. Matplotlib\n",
    "2. NumPy\n",
    "3. TensorFlow"
   ]
  },
  {
   "cell_type": "markdown",
   "id": "6b3e52d4-3699-489d-8122-9af1a94877de",
   "metadata": {},
   "source": [
    "| Data Science Tools |\n",
    "|----|\n",
    "|Jupyter Notebook|\n",
    "|PyCharm|\n",
    "|VS (Visual Studio) Code|"
   ]
  },
  {
   "cell_type": "markdown",
   "id": "219f942c-5196-4367-934f-373b8e6a3baf",
   "metadata": {},
   "source": [
    "### Below are a few examples of evaluating arithmetic expressions in Python"
   ]
  },
  {
   "cell_type": "code",
   "execution_count": 15,
   "id": "10015104-1ccd-4c92-9ec1-fdfc6902033d",
   "metadata": {},
   "outputs": [
    {
     "data": {
      "text/plain": [
       "17"
      ]
     },
     "execution_count": 15,
     "metadata": {},
     "output_type": "execute_result"
    }
   ],
   "source": [
    "# This a simple arithmetic expression to mutiply then add integers\n",
    "(3*4)+5"
   ]
  },
  {
   "cell_type": "code",
   "execution_count": 17,
   "id": "7c839d23-a160-48b6-bbec-8e08c4a6f2b4",
   "metadata": {},
   "outputs": [
    {
     "data": {
      "text/plain": [
       "3.3333333333333335"
      ]
     },
     "execution_count": 17,
     "metadata": {},
     "output_type": "execute_result"
    }
   ],
   "source": [
    "# This will convert 200 minutes to hours by diving by 60\n",
    "200/60"
   ]
  }
 ],
 "metadata": {
  "kernelspec": {
   "display_name": "Python 3 (ipykernel)",
   "language": "python",
   "name": "python3"
  },
  "language_info": {
   "codemirror_mode": {
    "name": "ipython",
    "version": 3
   },
   "file_extension": ".py",
   "mimetype": "text/x-python",
   "name": "python",
   "nbconvert_exporter": "python",
   "pygments_lexer": "ipython3",
   "version": "3.12.4"
  }
 },
 "nbformat": 4,
 "nbformat_minor": 5
}
